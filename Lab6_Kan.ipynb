{
 "cells": [
  {
   "cell_type": "markdown",
   "id": "45630ba5-b23f-4d09-9baa-3adb558b1872",
   "metadata": {},
   "source": [
    "# Кан Влдаислав\n",
    "## AIN-2-22"
   ]
  },
  {
   "cell_type": "markdown",
   "id": "979a4848-db02-4bb1-81f2-7cb0ee7caf48",
   "metadata": {},
   "source": [
    "### 2.\tИспользуя один из подходящих игрушечных датасетов применить алгоритмы улучшения качества и оценки моделей (перекрестная проверка, решетчатый поиск, метрики модели)"
   ]
  },
  {
   "cell_type": "markdown",
   "id": "ff7fdcfb-9f54-4c31-8f20-a0c3d707efd5",
   "metadata": {},
   "source": [
    "#### Был взят дата сет load_breast_cancer"
   ]
  },
  {
   "cell_type": "markdown",
   "id": "e92770fb-94bd-4534-aa8b-c247fb0e2db8",
   "metadata": {},
   "source": [
    "#### Вывод без использования настроек гиперпараметров и улучшений "
   ]
  },
  {
   "cell_type": "code",
   "execution_count": 6,
   "id": "c484b2ca-aac4-4f14-810c-01f609ef6f41",
   "metadata": {},
   "outputs": [
    {
     "name": "stdout",
     "output_type": "stream",
     "text": [
      "Точность модели (Accuracy): 0.935672514619883\n",
      "Классификационный отчет:\n",
      "              precision    recall  f1-score   support\n",
      "\n",
      "           0       0.92      0.91      0.91        64\n",
      "           1       0.94      0.95      0.95       107\n",
      "\n",
      "    accuracy                           0.94       171\n",
      "   macro avg       0.93      0.93      0.93       171\n",
      "weighted avg       0.94      0.94      0.94       171\n",
      "\n"
     ]
    }
   ],
   "source": [
    "from sklearn.datasets import load_breast_cancer\n",
    "from sklearn.model_selection import train_test_split\n",
    "from sklearn.ensemble import RandomForestClassifier\n",
    "from sklearn.metrics import classification_report, accuracy_score\n",
    "\n",
    "data = load_breast_cancer()\n",
    "X, y = data.data, data.target\n",
    "X_train, X_test, y_train, y_test = train_test_split(X, y, test_size=0.3, random_state=42, stratify=y)\n",
    "model = RandomForestClassifier(random_state=42)\n",
    "model.fit(X_train, y_train)\n",
    "y_pred = model.predict(X_test)\n",
    "print(\"Точность модели (Accuracy):\", accuracy_score(y_test, y_pred))\n",
    "print(\"Классификационный отчет:\")\n",
    "print(classification_report(y_test, y_pred))"
   ]
  },
  {
   "cell_type": "markdown",
   "id": "0f7a2ade-756d-463f-8456-7b344e2bc5ae",
   "metadata": {},
   "source": [
    "#### С использованием перекрестной проверки"
   ]
  },
  {
   "cell_type": "code",
   "execution_count": 9,
   "id": "23c7d00d-9499-460f-9303-f36219b51d40",
   "metadata": {},
   "outputs": [
    {
     "name": "stdout",
     "output_type": "stream",
     "text": [
      "Оценки точности на каждой итерации кросс-валидации: [0.92105263 0.93859649 0.98245614 0.96491228 0.97345133]\n",
      "Средняя точность модели: 0.9560937742586555\n",
      "Стандартное отклонение точности: 0.02283883380490945\n"
     ]
    }
   ],
   "source": [
    "from sklearn.model_selection import cross_val_score\n",
    "import numpy as np\n",
    "\n",
    "cv_scores = cross_val_score(model, X, y, cv=5, scoring='accuracy')\n",
    "print(\"Оценки точности на каждой итерации кросс-валидации:\", cv_scores)\n",
    "print(\"Средняя точность модели:\", np.mean(cv_scores))\n",
    "print(\"Стандартное отклонение точности:\", np.std(cv_scores))"
   ]
  },
  {
   "cell_type": "markdown",
   "id": "9e350c32-4a7e-4683-b0f6-52990f88989a",
   "metadata": {},
   "source": [
    "#### С использованием решетчатого поиска"
   ]
  },
  {
   "cell_type": "code",
   "execution_count": 3,
   "id": "16051cf1-3959-4e59-8cb5-a8b423798618",
   "metadata": {},
   "outputs": [
    {
     "name": "stdout",
     "output_type": "stream",
     "text": [
      "Fitting 5 folds for each of 32 candidates, totalling 160 fits\n",
      "Лучшие параметры: {'C': 100, 'gamma': 1, 'kernel': 'linear'}\n",
      "Лучший скор: 0.9714285714285715\n",
      "Тестовый скор: 0.956140350877193\n",
      "Точность модели: 0.956140350877193\n"
     ]
    }
   ],
   "source": [
    "from sklearn.datasets import load_breast_cancer\n",
    "from sklearn.svm import SVC\n",
    "from sklearn.model_selection import train_test_split, GridSearchCV\n",
    "from sklearn.metrics import accuracy_score\n",
    "\n",
    "data = load_breast_cancer()\n",
    "X = data.data\n",
    "y = data.target\n",
    "X_train, X_test, y_train, y_test = train_test_split(X, y, test_size=0.2, random_state=42)\n",
    "model = SVC()\n",
    "param_grid = {\n",
    "    'C': [0.1, 1, 10, 100],\n",
    "    'gamma': [1, 0.1, 0.01, 0.001],\n",
    "    'kernel': ['linear', 'rbf']\n",
    "}\n",
    "grid_search = GridSearchCV(estimator=model, param_grid=param_grid, cv=5, n_jobs=-1, verbose=2)\n",
    "grid_search.fit(X_train, y_train)\n",
    "print(f'Лучшие параметры: {grid_search.best_params_}')\n",
    "print(f'Лучший скор: {grid_search.best_score_}')\n",
    "best_model = grid_search.best_estimator_\n",
    "test_score = best_model.score(X_test, y_test)\n",
    "print(f'Тестовый скор: {test_score}')\n",
    "y_pred = best_model.predict(X_test)\n",
    "accuracy = accuracy_score(y_test, y_pred)\n",
    "print(f'Точность модели: {accuracy}')"
   ]
  },
  {
   "cell_type": "markdown",
   "id": "473f1879-8311-43b4-b547-dda5f174948b",
   "metadata": {},
   "source": [
    "#### С использованием метрики модели"
   ]
  },
  {
   "cell_type": "code",
   "execution_count": 5,
   "id": "bcb2a8d4-be03-489a-ae84-5d9532840f66",
   "metadata": {},
   "outputs": [
    {
     "name": "stdout",
     "output_type": "stream",
     "text": [
      "Точность модели (Accuracy): 0.956140350877193\n",
      "Точность (Precision): 0.9459459459459459\n",
      "Полнота (Recall): 0.9859154929577465\n",
      "F1-Score: 0.9655172413793104\n",
      "ROC AUC Score: 0.9957418932197839\n",
      "Средняя точность (Average Precision Score): 0.9974399657162287\n",
      "Log Loss: 0.08959032563825023\n",
      "MCC (Matthews Correlation Coefficient): 0.9068106119605033\n",
      "Каппа Коэф. (Cohen's Kappa): 0.9053470607771504\n",
      "\n",
      "Отчет классификации:\n",
      "              precision    recall  f1-score   support\n",
      "\n",
      "           0       0.97      0.91      0.94        43\n",
      "           1       0.95      0.99      0.97        71\n",
      "\n",
      "    accuracy                           0.96       114\n",
      "   macro avg       0.96      0.95      0.95       114\n",
      "weighted avg       0.96      0.96      0.96       114\n",
      "\n"
     ]
    }
   ],
   "source": [
    "from sklearn.datasets import load_breast_cancer\n",
    "from sklearn.svm import SVC\n",
    "from sklearn.model_selection import train_test_split\n",
    "from sklearn.metrics import accuracy_score, precision_score, recall_score, f1_score, classification_report, roc_auc_score, average_precision_score, log_loss, matthews_corrcoef, cohen_kappa_score\n",
    "\n",
    "data = load_breast_cancer()\n",
    "X = data.data\n",
    "y = data.target\n",
    "X_train, X_test, y_train, y_test = train_test_split(X, y, test_size=0.2, random_state=42)\n",
    "model = SVC(C=1.0, kernel='linear', gamma='scale', probability=True)\n",
    "model.fit(X_train, y_train)\n",
    "y_pred = model.predict(X_test)\n",
    "y_prob = model.predict_proba(X_test)[:, 1]\n",
    "accuracy = accuracy_score(y_test, y_pred)\n",
    "precision = precision_score(y_test, y_pred)\n",
    "recall = recall_score(y_test, y_pred)\n",
    "f1 = f1_score(y_test, y_pred)\n",
    "roc_auc = roc_auc_score(y_test, y_prob)\n",
    "avg_precision = average_precision_score(y_test, y_prob)\n",
    "log_loss_val = log_loss(y_test, y_prob)\n",
    "mcc = matthews_corrcoef(y_test, y_pred)\n",
    "kappa = cohen_kappa_score(y_test, y_pred)\n",
    "print(f'Точность модели (Accuracy): {accuracy}')\n",
    "print(f'Точность (Precision): {precision}')\n",
    "print(f'Полнота (Recall): {recall}')\n",
    "print(f'F1-Score: {f1}')\n",
    "print(f'ROC AUC Score: {roc_auc}')\n",
    "print(f'Средняя точность (Average Precision Score): {avg_precision}')\n",
    "print(f'Log Loss: {log_loss_val}')\n",
    "print(f'MCC (Matthews Correlation Coefficient): {mcc}')\n",
    "print(f'Каппа Коэф. (Cohen\\'s Kappa): {kappa}')\n",
    "print(\"\\nОтчет классификации:\")\n",
    "print(classification_report(y_test, y_pred))"
   ]
  },
  {
   "cell_type": "markdown",
   "id": "db7ca4f7-5ca4-49d2-9171-b0eee56ceaff",
   "metadata": {},
   "source": [
    "### Задание 3"
   ]
  },
  {
   "cell_type": "markdown",
   "id": "4b4f7a47-695f-4eab-90e5-514a80f20523",
   "metadata": {},
   "source": [
    "#### a.\tСоздать свой датасет с категориальными данными (1000 строк), которые содержат следующие поля: (salary, city, age, vacation_prefer, transport_prefer, target). Применить import random (random. choice, random.randint) \n",
    "\n",
    "#### b.\tSalary – установить числовой тип (например 50000), city – город проживания (например, Bishkek), age – возраст (например, от 30 до 65), vacation_prefer – тип отдыха (например, Shopping или Beach holiday), transport_prefer – тип транспорта (например, auto, plane), target – город, в котором проведем отпуск (например, London, Moscow)"
   ]
  },
  {
   "cell_type": "code",
   "execution_count": 1,
   "id": "736ad431-860d-422d-9311-0d45ec301c7c",
   "metadata": {},
   "outputs": [
    {
     "name": "stdout",
     "output_type": "stream",
     "text": [
      "Dataset created and saved as 'vacation_preferences.csv'\n"
     ]
    }
   ],
   "source": [
    "import pandas as pd\n",
    "import random\n",
    "\n",
    "cities = [\"Bishkek\", \"Osh\", \"Almaty\", \"Tashkent\", \"Astana\", \"Baku\", \"Tbilisi\", \"Yerevan\", \"Istanbul\", \"Cairo\"]\n",
    "vacation_prefs = [\"Shopping\", \"Beach holiday\", \"Adventure\", \"Cultural\", \"Relaxation\", \"Sightseeing\", \"Hiking\", \"Skiing\", \"Cruise\", \"Safari\"]\n",
    "transport_prefs = [\"auto\", \"plane\", \"train\", \"bus\", \"boat\", \"bicycle\", \"motorcycle\", \"subway\", \"tram\", \"helicopter\"]\n",
    "target_cities = [\"London\", \"Moscow\", \"Paris\", \"New York\", \"Tokyo\", \"Sydney\", \"Rome\", \"Berlin\", \"Barcelona\", \"Amsterdam\"]\n",
    "\n",
    "def generate_data(num_samples=1000):\n",
    "    data = []\n",
    "    for _ in range(num_samples):\n",
    "        salary = random.randint(30000, 100000)\n",
    "        city = random.choice(cities)\n",
    "        age = random.randint(30, 65)\n",
    "        vacation_prefer = random.choice(vacation_prefs)\n",
    "        transport_prefer = random.choice(transport_prefs)\n",
    "        target = random.choice(target_cities)\n",
    "        data.append([salary, city, age, vacation_prefer, transport_prefer, target])\n",
    "    return data\n",
    "\n",
    "data = generate_data(1000)\n",
    "df = pd.DataFrame(data, columns=[\"salary\", \"city\", \"age\", \"vacation_prefer\", \"transport_prefer\", \"target\"])\n",
    "df.to_csv(\"vacation_preferences.csv\", index=False)\n",
    "print(\"Dataset created and saved as 'vacation_preferences.csv'\")"
   ]
  },
  {
   "cell_type": "markdown",
   "id": "8c94737e-2e4b-4eba-b747-82a9a10ac17c",
   "metadata": {},
   "source": [
    "#### c.\tПреобразовать категориальные данные в числовые, используя panadas.get_dummies."
   ]
  },
  {
   "cell_type": "code",
   "execution_count": 5,
   "id": "9bb47eb2-8aa1-4896-8794-2e3b543a0764",
   "metadata": {},
   "outputs": [
    {
     "name": "stdout",
     "output_type": "stream",
     "text": [
      "   salary  age  city_Astana  city_Baku  city_Bishkek  city_Cairo  \\\n",
      "0   43582   38        False       True         False       False   \n",
      "1   30305   54         True      False         False       False   \n",
      "2   54645   47        False      False          True       False   \n",
      "3   58436   35        False      False         False       False   \n",
      "4   44349   40        False      False         False       False   \n",
      "\n",
      "   city_Istanbul  city_Osh  city_Tashkent  city_Tbilisi  ...  \\\n",
      "0          False     False          False         False  ...   \n",
      "1          False     False          False         False  ...   \n",
      "2          False     False          False         False  ...   \n",
      "3          False     False          False         False  ...   \n",
      "4          False     False          False         False  ...   \n",
      "\n",
      "   transport_prefer_tram  target_Barcelona  target_Berlin  target_London  \\\n",
      "0                  False             False          False          False   \n",
      "1                  False             False          False          False   \n",
      "2                  False             False          False          False   \n",
      "3                  False              True          False          False   \n",
      "4                   True             False          False          False   \n",
      "\n",
      "   target_Moscow  target_New York  target_Paris  target_Rome  target_Sydney  \\\n",
      "0          False            False         False         True          False   \n",
      "1          False            False          True        False          False   \n",
      "2          False            False         False        False          False   \n",
      "3          False            False         False        False          False   \n",
      "4          False            False         False        False           True   \n",
      "\n",
      "   target_Tokyo  \n",
      "0         False  \n",
      "1         False  \n",
      "2         False  \n",
      "3         False  \n",
      "4         False  \n",
      "\n",
      "[5 rows x 38 columns]\n",
      "Уникальные категории по столбцам:\n",
      "city: ['Baku' 'Astana' 'Bishkek' 'Yerevan' 'Almaty' 'Istanbul' 'Tbilisi' 'Osh'\n",
      " 'Cairo' 'Tashkent']\n",
      "vacation_prefer: ['Shopping' 'Sightseeing' 'Cultural' 'Hiking' 'Skiing' 'Cruise' 'Safari'\n",
      " 'Relaxation' 'Adventure' 'Beach holiday']\n",
      "transport_prefer: ['boat' 'subway' 'bicycle' 'motorcycle' 'tram' 'bus' 'plane' 'helicopter'\n",
      " 'auto' 'train']\n",
      "target: ['Rome' 'Paris' 'Amsterdam' 'Barcelona' 'Sydney' 'New York' 'London'\n",
      " 'Tokyo' 'Moscow' 'Berlin']\n",
      "Encoded dataset created and saved as 'vacation_preferences_encoded.csv'\n"
     ]
    }
   ],
   "source": [
    "df_encoded = pd.get_dummies(df, columns=[\"city\", \"vacation_prefer\", \"transport_prefer\", \"target\"], drop_first=True)\n",
    "print(df_encoded.head()) \n",
    "print(\"Уникальные категории по столбцам:\") \n",
    "for column in [\"city\", \"vacation_prefer\", \"transport_prefer\", \"target\"]: \n",
    "    print(f\"{column}: {df[column].unique()}\")\n",
    "    \n",
    "df_encoded.to_csv(\"vacation_preferences_encoded.csv\", index=False) \n",
    "print(\"Encoded dataset created and saved as 'vacation_preferences_encoded.csv'\")"
   ]
  },
  {
   "cell_type": "markdown",
   "id": "6fe9e880-e541-455f-bf4f-def2b4f1b87d",
   "metadata": {},
   "source": [
    "#### d.\tВыделить обучающую выборку и тестовую выборку (X_train, y_train, X-test, y_test)"
   ]
  },
  {
   "cell_type": "code",
   "execution_count": 7,
   "id": "52753971-5386-4b2e-81ce-09abbdfc2665",
   "metadata": {},
   "outputs": [
    {
     "name": "stdout",
     "output_type": "stream",
     "text": [
      "Размер обучающей выборки:  (800, 37) (800,)\n",
      "Размер тестовой выборки:  (200, 37) (200,)\n"
     ]
    }
   ],
   "source": [
    "import pandas as pd\n",
    "import random\n",
    "from sklearn.model_selection import train_test_split\n",
    "\n",
    "df_encoded = pd.read_csv(\"vacation_preferences_encoded.csv\")\n",
    "\n",
    "X = df_encoded.drop(columns=['target_London'])\n",
    "y = df_encoded['target_London']\n",
    "X_train, X_test, y_train, y_test = train_test_split(X, y, test_size=0.2, random_state=42)\n",
    "print(\"Размер обучающей выборки: \", X_train.shape, y_train.shape)\n",
    "print(\"Размер тестовой выборки: \", X_test.shape, y_test.shape)"
   ]
  },
  {
   "cell_type": "markdown",
   "id": "128b45e2-7760-43aa-b0f2-53bd81c2cb5d",
   "metadata": {},
   "source": [
    "#### e.\tВыбрать модель классификатор (например, from sklearn.ensemble import RandomForestClassifier)"
   ]
  },
  {
   "cell_type": "code",
   "execution_count": 9,
   "id": "a3bc1b78-1f0e-4e15-a75b-474b58663d2c",
   "metadata": {},
   "outputs": [
    {
     "name": "stdout",
     "output_type": "stream",
     "text": [
      "Точность модели:  0.89\n",
      "Отчет о классификации:\n",
      "              precision    recall  f1-score   support\n",
      "\n",
      "       False       0.89      1.00      0.94       177\n",
      "        True       1.00      0.04      0.08        23\n",
      "\n",
      "    accuracy                           0.89       200\n",
      "   macro avg       0.94      0.52      0.51       200\n",
      "weighted avg       0.90      0.89      0.84       200\n",
      "\n"
     ]
    }
   ],
   "source": [
    "import pandas as pd\n",
    "from sklearn.model_selection import train_test_split\n",
    "from sklearn.ensemble import RandomForestClassifier\n",
    "from sklearn.metrics import accuracy_score, classification_report\n",
    "\n",
    "model = RandomForestClassifier(random_state=42)\n",
    "model.fit(X_train, y_train)\n",
    "\n",
    "y_pred = model.predict(X_test)\n",
    "accuracy = accuracy_score(y_test, y_pred)\n",
    "print(\"Точность модели: \", accuracy)\n",
    "print(\"Отчет о классификации:\")\n",
    "print(classification_report(y_test, y_pred))"
   ]
  },
  {
   "cell_type": "markdown",
   "id": "ba7372ad-1a21-49f4-b70d-19286150a366",
   "metadata": {},
   "source": [
    "#### f.\tПроверить оценку модели."
   ]
  },
  {
   "cell_type": "code",
   "execution_count": 12,
   "id": "ac290de0-5318-498b-afda-ef42c7b6664b",
   "metadata": {},
   "outputs": [
    {
     "data": {
      "image/png": "[encoded data removed]",
      "text/plain": [
       "<Figure size 1000x700 with 2 Axes>"
      ]
     },
     "metadata": {},
     "output_type": "display_data"
    },
    {
     "data": {
      "image/png": "[encoded data removed]",
      "text/plain": [
       "<Figure size 1000x700 with 1 Axes>"
      ]
     },
     "metadata": {},
     "output_type": "display_data"
    },
    {
     "data": {
      "image/png": "[encoded data removed]",
      "text/plain": [
       "<Figure size 1000x700 with 1 Axes>"
      ]
     },
     "metadata": {},
     "output_type": "display_data"
    }
   ],
   "source": [
    "import pandas as pd\n",
    "from sklearn.model_selection import train_test_split\n",
    "from sklearn.ensemble import RandomForestClassifier\n",
    "from sklearn.metrics import accuracy_score, classification_report, confusion_matrix, roc_auc_score, roc_curve, precision_recall_curve\n",
    "import matplotlib.pyplot as plt\n",
    "import seaborn as sns\n",
    "\n",
    "cm = confusion_matrix(y_test, y_pred)\n",
    "plt.figure(figsize=(10,7))\n",
    "sns.heatmap(cm, annot=True, fmt=\"d\", cmap=\"Blues\")\n",
    "plt.xlabel('Predicted')\n",
    "plt.ylabel('True')\n",
    "plt.title('Confusion Matrix')\n",
    "plt.show()\n",
    "\n",
    "y_pred_proba = model.predict_proba(X_test)[:,1]\n",
    "fpr, tpr, _ = roc_curve(y_test, y_pred_proba)\n",
    "roc_auc = roc_auc_score(y_test, y_pred_proba)\n",
    "plt.figure(figsize=(10,7))\n",
    "plt.plot(fpr, tpr, label=f\"ROC Curve (area = {roc_auc:.2f})\")\n",
    "plt.plot([0, 1], [0, 1], color=\"navy\", linestyle=\"--\")\n",
    "plt.xlabel(\"False Positive Rate\")\n",
    "plt.ylabel(\"True Positive Rate\")\n",
    "plt.title(\"ROC Curve\")\n",
    "plt.legend(loc=\"lower right\")\n",
    "plt.show()\n",
    "\n",
    "precisions, recalls, _ = precision_recall_curve(y_test, y_pred_proba)\n",
    "plt.figure(figsize=(10,7))\n",
    "plt.plot(recalls, precisions, label=\"Precision-Recall Curve\")\n",
    "plt.xlabel(\"Recall\")\n",
    "plt.ylabel(\"Precision\")\n",
    "plt.title(\"Precision-Recall Curve\")\n",
    "plt.legend(loc=\"lower left\")\n",
    "plt.show()"
   ]
  },
  {
   "cell_type": "markdown",
   "id": "21314e22-23e0-47ce-9e46-29ec943b1d1d",
   "metadata": {},
   "source": [
    "#### g.\tСделать предсказание на случайных данных."
   ]
  },
  {
   "cell_type": "code",
   "execution_count": 20,
   "id": "e13d5a79-6bab-4dbe-9126-46dd3302fdb3",
   "metadata": {},
   "outputs": [
    {
     "name": "stdout",
     "output_type": "stream",
     "text": [
      "   salary      city  age vacation_prefer transport_prefer     target  \\\n",
      "0   96592     Cairo   58          Safari       helicopter  Barcelona   \n",
      "1   46749     Cairo   30          Hiking       motorcycle      Tokyo   \n",
      "2   61167   Bishkek   37          Skiing            train      Tokyo   \n",
      "3   87705   Yerevan   38        Cultural            train  Barcelona   \n",
      "4   48683   Yerevan   49       Adventure            plane      Paris   \n",
      "5   81354   Yerevan   30     Sightseeing       motorcycle      Paris   \n",
      "6   64677  Istanbul   62        Shopping             tram     London   \n",
      "7   95070  Istanbul   37     Sightseeing             tram     Moscow   \n",
      "8   44487     Cairo   46        Shopping            train     Sydney   \n",
      "9   93800    Astana   32          Cruise             boat     Sydney   \n",
      "\n",
      "   prediction  \n",
      "0       False  \n",
      "1       False  \n",
      "2       False  \n",
      "3       False  \n",
      "4       False  \n",
      "5       False  \n",
      "6       False  \n",
      "7       False  \n",
      "8       False  \n",
      "9       False  \n"
     ]
    }
   ],
   "source": [
    "import pandas as pd\n",
    "import random\n",
    "\n",
    "cities = [\"Bishkek\", \"Osh\", \"Almaty\", \"Tashkent\", \"Astana\", \"Baku\", \"Tbilisi\", \"Yerevan\", \"Istanbul\", \"Cairo\"]\n",
    "vacation_prefs = [\"Shopping\", \"Beach holiday\", \"Adventure\", \"Cultural\", \"Relaxation\", \"Sightseeing\", \"Hiking\", \"Skiing\", \"Cruise\", \"Safari\"]\n",
    "transport_prefs = [\"auto\", \"plane\", \"train\", \"bus\", \"boat\", \"bicycle\", \"motorcycle\", \"subway\", \"tram\", \"helicopter\"]\n",
    "target_cities = [\"London\", \"Moscow\", \"Paris\", \"New York\", \"Tokyo\", \"Sydney\", \"Rome\", \"Berlin\", \"Barcelona\", \"Amsterdam\"]\n",
    "\n",
    "def generate_random_data(num_samples=10):\n",
    "    data = []\n",
    "    for _ in range(num_samples):\n",
    "        salary = random.randint(30000, 100000)\n",
    "        city = random.choice(cities)\n",
    "        age = random.randint(30, 65)\n",
    "        vacation_prefer = random.choice(vacation_prefs)\n",
    "        transport_prefer = random.choice(transport_prefs)\n",
    "        target = random.choice(target_cities)\n",
    "        data.append([salary, city, age, vacation_prefer, transport_prefer, target])\n",
    "    return data\n",
    "\n",
    "random_data = generate_random_data()\n",
    "\n",
    "df_random = pd.DataFrame(random_data, columns=[\"salary\", \"city\", \"age\", \"vacation_prefer\", \"transport_prefer\", \"target\"])\n",
    "\n",
    "df_random_encoded = pd.get_dummies(df_random, columns=[\"city\", \"vacation_prefer\", \"transport_prefer\", \"target\"])\n",
    "\n",
    "for column in X_train.columns:\n",
    "    if column not in df_random_encoded:\n",
    "        df_random_encoded[column] = 0\n",
    "\n",
    "df_random_encoded = df_random_encoded[X_train.columns]\n",
    "random_predictions = model.predict(df_random_encoded)\n",
    "\n",
    "df_random[\"prediction\"] = random_predictions\n",
    "print(df_random)"
   ]
  },
  {
   "cell_type": "markdown",
   "id": "1a488860-0c84-4d8d-9d17-7dcdbf558c48",
   "metadata": {},
   "source": [
    "#### h.\tУлучшить модель согласно примерам лекций 9-10 и материала лабораторной работы"
   ]
  },
  {
   "cell_type": "code",
   "execution_count": 33,
   "id": "5967a4dd-7795-40a0-b48c-1386b2090df1",
   "metadata": {},
   "outputs": [
    {
     "name": "stdout",
     "output_type": "stream",
     "text": [
      "Fitting 3 folds for each of 108 candidates, totalling 324 fits\n",
      "Лучшие гиперпараметры:  {'max_depth': None, 'min_samples_leaf': 1, 'min_samples_split': 2, 'n_estimators': 200}\n",
      "Кросс-валидационные оценки:  [0.91  0.9   0.905 0.91  0.91 ]\n",
      "Средняя кросс-валидационная оценка:  0.907\n",
      "Точность модели с наилучшими параметрами:  0.9\n",
      "Отчет о классификации:\n",
      "              precision    recall  f1-score   support\n",
      "\n",
      "       False       0.93      0.96      0.94       177\n",
      "        True       0.59      0.43      0.50        23\n",
      "\n",
      "    accuracy                           0.90       200\n",
      "   macro avg       0.76      0.70      0.72       200\n",
      "weighted avg       0.89      0.90      0.89       200\n",
      "\n"
     ]
    }
   ],
   "source": [
    "import pandas as pd\n",
    "from sklearn.model_selection import train_test_split, GridSearchCV, cross_val_score\n",
    "from sklearn.ensemble import RandomForestClassifier\n",
    "from imblearn.over_sampling import SMOTE\n",
    "from sklearn.metrics import accuracy_score, classification_report\n",
    "\n",
    "df_encoded = pd.read_csv(\"vacation_preferences_encoded.csv\")\n",
    "X = df_encoded.drop(columns=['target_London'])\n",
    "y = df_encoded['target_London']\n",
    "X_train, X_test, y_train, y_test = train_test_split(X, y, test_size=0.2, random_state=42)\n",
    "smote = SMOTE(random_state=42)\n",
    "X_train_balanced, y_train_balanced = smote.fit_resample(X_train, y_train)\n",
    "param_grid = {\n",
    "    'n_estimators': [50, 100, 200],\n",
    "    'max_depth': [None, 10, 20, 30],\n",
    "    'min_samples_split': [2, 5, 10],\n",
    "    'min_samples_leaf': [1, 2, 4]\n",
    "}\n",
    "\n",
    "model = RandomForestClassifier(random_state=42)\n",
    "grid_search = GridSearchCV(estimator=model, param_grid=param_grid, cv=3, n_jobs=-1, verbose=2)\n",
    "grid_search.fit(X_train_balanced, y_train_balanced)\n",
    "print(\"Лучшие гиперпараметры: \", grid_search.best_params_)\n",
    "best_model = grid_search.best_estimator_\n",
    "cv_scores = cross_val_score(best_model, X, y, cv=5)\n",
    "print(\"Кросс-валидационные оценки: \", cv_scores)\n",
    "print(\"Средняя кросс-валидационная оценка: \", cv_scores.mean())\n",
    "y_pred = best_model.predict(X_test)\n",
    "accuracy = accuracy_score(y_test, y_pred)\n",
    "print(\"Точность модели с наилучшими параметрами: \", accuracy)\n",
    "print(\"Отчет о классификации:\")\n",
    "print(classification_report(y_test, y_pred))"
   ]
  },
  {
   "cell_type": "markdown",
   "id": "44fba92a-c5ab-4764-9f13-c7444a10d60c",
   "metadata": {},
   "source": [
    "### Вывод"
   ]
  },
  {
   "cell_type": "markdown",
   "id": "d770cb34-14b4-4837-a31d-659bd6d4e741",
   "metadata": {},
   "source": [
    "#### Описание этапов\n",
    "###### Создание датасета:\n",
    "Создан датасет с 1000 строками, содержащий поля: salary, city, age, vacation_prefer, transport_prefer и target.\n",
    "Данные сгенерированы случайным образом с использованием функций random.choice и random.randint.\n",
    "###### Преобразование категориальных данных:\n",
    "Категориальные данные были преобразованы в числовые с использованием метода pd.get_dummies(). Это позволяет модели машинного обучения работать с данными.\n",
    "###### Разделение данных:\n",
    "Данные разделены на обучающую и тестовую выборки с использованием train_test_split().\n",
    "Обучающая выборка содержит 80% данных, а тестовая - 20%.\n",
    "##### Первоначальная оценка модели:\n",
    "Была выбрана модель RandomForestClassifier для первоначальной оценки.\n",
    "Модель обучена на данных и была оценена, показав точность около 0.89.\n",
    "##### Дополнительная оценка модели:\n",
    "Использованы дополнительные метрики и визуализации для более глубокого анализа модели, включая матрицу ошибок, ROC-AUC кривую и кривую точности и полноты (Precision-Recall).\n",
    "##### Предсказание на случайных данных:\n",
    "Были сгенерированы случайные данные и использованы для предсказания с обученной моделью. Это позволило убедиться, что модель способна предсказывать на новых данных.\n",
    "##### Улучшение модели:\n",
    "Проведена балансировка классов с использованием SMOTE.\n",
    "Настроены гиперпараметры модели с использованием GridSearchCV.\n",
    "Оценка модели с использованием кросс-валидации для повышения устойчивости модели.\n",
    "#### Итог\n",
    "Точность модели была улучшена до 0.907, что является хорошим показателем для задачи классификации.\n",
    "Использование SMOTE помогло сбалансировать классы и улучшить результаты для меньшего класса (True).\n",
    "Настройка гиперпараметров с использованием GridSearchCV позволила найти оптимальные параметры для модели, что также способствовало улучшению точности.\n",
    "Кросс-валидация показала, что модель устойчива и надежна при оценке на различных подвыборках данных."
   ]
  }
 ],
 "metadata": {
  "kernelspec": {
   "display_name": "Python 3 (ipykernel)",
   "language": "python",
   "name": "python3"
  },
  "language_info": {
   "codemirror_mode": {
    "name": "ipython",
    "version": 3
   },
   "file_extension": ".py",
   "mimetype": "text/x-python",
   "name": "python",
   "nbconvert_exporter": "python",
   "pygments_lexer": "ipython3",
   "version": "3.10.7"
  }
 },
 "nbformat": 4,
 "nbformat_minor": 5
}
